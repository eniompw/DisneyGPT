{
  "cells": [
    {
      "cell_type": "markdown",
      "metadata": {
        "id": "view-in-github",
        "colab_type": "text"
      },
      "source": [
        "<a href=\"https://colab.research.google.com/github/eniompw/DisneyGPT/blob/main/DisneyGPT2.ipynb\" target=\"_parent\"><img src=\"https://colab.research.google.com/assets/colab-badge.svg\" alt=\"Open In Colab\"/></a>"
      ]
    },
    {
      "cell_type": "code",
      "execution_count": null,
      "metadata": {
        "colab": {
          "base_uri": "https://localhost:8080/"
        },
        "id": "wjr8ceOFMqZw",
        "outputId": "6e39b670-2485-41bb-e2b4-3f7a01b65704"
      },
      "outputs": [
        {
          "output_type": "stream",
          "name": "stdout",
          "text": [
            "Cloning into 'nanoGPT'...\n",
            "remote: Enumerating objects: 594, done.\u001b[K\n",
            "remote: Counting objects: 100% (329/329), done.\u001b[K\n",
            "remote: Compressing objects: 100% (67/67), done.\u001b[K\n",
            "remote: Total 594 (delta 295), reused 262 (delta 262), pack-reused 265\u001b[K\n",
            "Receiving objects: 100% (594/594), 763.43 KiB | 20.09 MiB/s, done.\n",
            "Resolving deltas: 100% (352/352), done.\n"
          ]
        }
      ],
      "source": [
        "!git clone https://github.com/karpathy/nanoGPT.git"
      ]
    },
    {
      "cell_type": "code",
      "execution_count": null,
      "metadata": {
        "colab": {
          "base_uri": "https://localhost:8080/"
        },
        "id": "Z5aBSOp3QIoM",
        "outputId": "75c8503f-e12d-461b-ff6f-58e0e69fd471"
      },
      "outputs": [
        {
          "output_type": "stream",
          "name": "stdout",
          "text": [
            "Looking in indexes: https://pypi.org/simple, https://us-python.pkg.dev/colab-wheels/public/simple/\n",
            "Requirement already satisfied: tiktoken in /usr/local/lib/python3.10/dist-packages (0.4.0)\n",
            "Requirement already satisfied: regex>=2022.1.18 in /usr/local/lib/python3.10/dist-packages (from tiktoken) (2022.10.31)\n",
            "Requirement already satisfied: requests>=2.26.0 in /usr/local/lib/python3.10/dist-packages (from tiktoken) (2.27.1)\n",
            "Requirement already satisfied: urllib3<1.27,>=1.21.1 in /usr/local/lib/python3.10/dist-packages (from requests>=2.26.0->tiktoken) (1.26.15)\n",
            "Requirement already satisfied: certifi>=2017.4.17 in /usr/local/lib/python3.10/dist-packages (from requests>=2.26.0->tiktoken) (2022.12.7)\n",
            "Requirement already satisfied: charset-normalizer~=2.0.0 in /usr/local/lib/python3.10/dist-packages (from requests>=2.26.0->tiktoken) (2.0.12)\n",
            "Requirement already satisfied: idna<4,>=2.5 in /usr/local/lib/python3.10/dist-packages (from requests>=2.26.0->tiktoken) (3.4)\n"
          ]
        }
      ],
      "source": [
        "# install dependencies\n",
        "!pip install tiktoken"
      ]
    },
    {
      "cell_type": "code",
      "execution_count": 49,
      "metadata": {
        "id": "MIXj56GPS9e2"
      },
      "outputs": [],
      "source": [
        "# create disney data\n",
        "!cp ./nanoGPT/data/shakespeare/ ./nanoGPT/data/disney/ -r\n",
        "!sed -i \"9s,.*,    data_url = 'https://raw.githubusercontent.com/eniompw/DisneyGPT/main/GrimmsFairyTales.txt',\" ./nanoGPT/data/disney/prepare.py"
      ]
    },
    {
      "cell_type": "code",
      "execution_count": 50,
      "metadata": {
        "colab": {
          "base_uri": "https://localhost:8080/"
        },
        "id": "JUcJAoK5REPt",
        "outputId": "9cefb1ab-92ed-41ec-cec3-64fcdcd8088f"
      },
      "outputs": [
        {
          "output_type": "stream",
          "name": "stdout",
          "text": [
            "train has 128,538 tokens\n",
            "val has 14,168 tokens\n"
          ]
        }
      ],
      "source": [
        "!cd ./nanoGPT/data/disney/ && python prepare.py"
      ]
    },
    {
      "cell_type": "code",
      "execution_count": 60,
      "metadata": {
        "colab": {
          "base_uri": "https://localhost:8080/"
        },
        "id": "Yke4_cSURw-d",
        "outputId": "f0a9b83e-9f2e-4ee1-85ce-a0ced6195512"
      },
      "outputs": [
        {
          "output_type": "stream",
          "name": "stdout",
          "text": [
            "Overriding: dataset = disney\n",
            "Overriding: dtype = float16\n",
            "Overriding: eval_iters = 20\n",
            "Overriding: log_interval = 1\n",
            "Overriding: block_size = 64\n",
            "Overriding: batch_size = 12\n",
            "Overriding: n_layer = 4\n",
            "Overriding: n_head = 4\n",
            "Overriding: n_embd = 128\n",
            "Overriding: lr_decay_iters = 2000\n",
            "Overriding: dropout = 0.0\n",
            "Overriding: eval_interval = 15\n",
            "Overriding: max_iters = 15\n",
            "Overriding: init_from = gpt2\n",
            "tokens per iteration will be: 30,720\n",
            "Initializing from OpenAI GPT-2 weights: gpt2\n",
            "loading weights from pretrained gpt: gpt2\n",
            "forcing vocab_size=50257, block_size=1024, bias=True\n",
            "overriding dropout rate to 0.0\n",
            "number of parameters: 123.65M\n",
            "num decayed parameter tensors: 50, with 123,581,184 parameters\n",
            "num non-decayed parameter tensors: 98, with 121,344 parameters\n",
            "using fused AdamW: True\n",
            "compiling the model... (takes a ~minute)\n",
            "step 0: train loss 4.1958, val loss 4.1440\n",
            "iter 0: loss 4.2460, time 30674.84ms, mfu -100.00%\n",
            "iter 1: loss 4.1972, time 2408.77ms, mfu -100.00%\n",
            "iter 2: loss 4.3061, time 2404.46ms, mfu -100.00%\n",
            "iter 3: loss 4.2337, time 2410.55ms, mfu -100.00%\n",
            "iter 4: loss 4.3398, time 2417.74ms, mfu -100.00%\n",
            "iter 5: loss 4.3687, time 2420.52ms, mfu 3.05%\n",
            "iter 6: loss 4.3249, time 2433.11ms, mfu 3.05%\n",
            "iter 7: loss 4.4046, time 2439.04ms, mfu 3.04%\n",
            "iter 8: loss 4.0535, time 2437.14ms, mfu 3.04%\n",
            "iter 9: loss 4.0300, time 2446.47ms, mfu 3.04%\n",
            "iter 10: loss 4.0005, time 2452.68ms, mfu 3.04%\n",
            "iter 11: loss 3.9858, time 2463.21ms, mfu 3.03%\n",
            "iter 12: loss 4.2820, time 2465.60ms, mfu 3.03%\n",
            "iter 13: loss 3.9183, time 2477.54ms, mfu 3.02%\n",
            "iter 14: loss 3.9749, time 2478.91ms, mfu 3.02%\n",
            "step 15: train loss 3.9900, val loss 3.9203\n",
            "saving checkpoint to out\n",
            "iter 15: loss 3.7757, time 14155.59ms, mfu 2.77%\n"
          ]
        }
      ],
      "source": [
        "!cd ./nanoGPT && python train.py --dataset=disney --dtype=float16 --eval_iters=20 --log_interval=1 --block_size=64 --batch_size=12 --n_layer=4 --n_head=4 --n_embd=128 --lr_decay_iters=2000 --dropout=0.0 --eval_interval=15 --max_iters=15 --init_from='gpt2'"
      ]
    },
    {
      "cell_type": "code",
      "execution_count": 61,
      "metadata": {
        "colab": {
          "base_uri": "https://localhost:8080/"
        },
        "id": "F1fJeRAdRl5e",
        "outputId": "ff9f7505-5a26-4504-cf71-c7e1cd3597bf"
      },
      "outputs": [
        {
          "output_type": "stream",
          "name": "stdout",
          "text": [
            "Overriding: dtype = float16\n",
            "Overriding: num_samples = 5\n",
            "Overriding: max_new_tokens = 100\n",
            "Overriding: start =  \n",
            "number of parameters: 123.65M\n",
            "No meta.pkl found, assuming GPT-2 encodings...\n",
            " - * * All four of them have a different path so if you want to go through them take a look at the images above. (They are an example of a file created with pom-pom. The path is the name of the file, followed by the name of the tool or application to which it fits.) The reason for the name is that pom-pom says \"pom-prod\" or \"pom\" and cannot be used with a file whose name\n",
            "---------------\n",
            " You don't like my voice and I won't listen to it anymore. Give more time to decide what I want to do and what I don't want to do.\n",
            "\n",
            "MUSIC: A Girl on the Moon\n",
            "\n",
            "MUSIC: The Three Daughters of Kourou\n",
            "\n",
            "MUSIC: The Legend of Kourou\n",
            "\n",
            "MUSIC: The Last Waltz\n",
            "\n",
            "MUSIC: The Lion King\n",
            "\n",
            "MUSIC: The Last Waltz\n",
            "---------------\n",
            "  was not so. When I first heard about the study, it raised a few questions of my own. Some wondered if it had been done by a man, or even a woman, or simply a boy. I was told that it was a male, not a female, and it was not my idea of a woman. But I went on to believe that the man was the only one that showed up at my house, and though I could not understand why, I was convinced by the evidence that\n",
            "---------------\n",
            "  of the time, with all the other things and things that they were going to do for some reason. I'm not sure how much time I gave them to do. I'm not sure how much time I gave them to go to school. I'm not sure how much time I gave them to be patient. I'm not sure how much time I gave them to be patient. I was not ready, and I was not ready to fight. Because we're not fighting. The battle is on\n",
            "---------------\n",
            " S:B2,22:B3:B4=Y1-B4,6:B5:B6=Y2-B6,5:B7:B8=Y3+B7}*B9*D4=Y2-B9,5:B8:B9=Y4-B9,4:B10:B10=Y4+B10}*B11*D6=Y2-B7\n",
            "---------------\n"
          ]
        }
      ],
      "source": [
        "!cd ./nanoGPT && python sample.py --dtype=float16 --num_samples=5 --max_new_tokens=100 --start=\" \""
      ]
    }
  ],
  "metadata": {
    "accelerator": "GPU",
    "colab": {
      "provenance": [],
      "gpuType": "T4",
      "authorship_tag": "ABX9TyPwoyC9LdyuN4oAek5l6OHj",
      "include_colab_link": true
    },
    "kernelspec": {
      "display_name": "Python 3",
      "name": "python3"
    },
    "language_info": {
      "name": "python"
    }
  },
  "nbformat": 4,
  "nbformat_minor": 0
}