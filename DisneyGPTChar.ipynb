{
  "cells": [
    {
      "cell_type": "markdown",
      "metadata": {
        "id": "view-in-github",
        "colab_type": "text"
      },
      "source": [
        "<a href=\"https://colab.research.google.com/github/eniompw/DisneyGPT/blob/main/DisneyGPTChar.ipynb\" target=\"_parent\"><img src=\"https://colab.research.google.com/assets/colab-badge.svg\" alt=\"Open In Colab\"/></a>"
      ]
    },
    {
      "cell_type": "code",
      "execution_count": 1,
      "metadata": {
        "colab": {
          "base_uri": "https://localhost:8080/"
        },
        "id": "wjr8ceOFMqZw",
        "outputId": "8631d80a-978f-4412-cd6a-d41f3211f6d2"
      },
      "outputs": [
        {
          "output_type": "stream",
          "name": "stdout",
          "text": [
            "Cloning into 'nanoGPT'...\n",
            "remote: Enumerating objects: 649, done.\u001b[K\n",
            "remote: Total 649 (delta 0), reused 0 (delta 0), pack-reused 649\u001b[K\n",
            "Receiving objects: 100% (649/649), 935.68 KiB | 897.00 KiB/s, done.\n",
            "Resolving deltas: 100% (373/373), done.\n"
          ]
        }
      ],
      "source": [
        "# download code\n",
        "!git clone https://github.com/karpathy/nanoGPT.git"
      ]
    },
    {
      "cell_type": "code",
      "execution_count": 2,
      "metadata": {
        "colab": {
          "base_uri": "https://localhost:8080/"
        },
        "id": "Z5aBSOp3QIoM",
        "outputId": "5582d62c-690e-4283-a45d-c1ca472fd308"
      },
      "outputs": [
        {
          "output_type": "stream",
          "name": "stdout",
          "text": [
            "Collecting tiktoken\n",
            "  Downloading tiktoken-0.4.0-cp310-cp310-manylinux_2_17_x86_64.manylinux2014_x86_64.whl (1.7 MB)\n",
            "\u001b[?25l     \u001b[90m━━━━━━━━━━━━━━━━━━━━━━━━━━━━━━━━━━━━━━━━\u001b[0m \u001b[32m0.0/1.7 MB\u001b[0m \u001b[31m?\u001b[0m eta \u001b[36m-:--:--\u001b[0m\r\u001b[2K     \u001b[91m━\u001b[0m\u001b[90m╺\u001b[0m\u001b[90m━━━━━━━━━━━━━━━━━━━━━━━━━━━━━━━━━━━━━━\u001b[0m \u001b[32m0.1/1.7 MB\u001b[0m \u001b[31m1.6 MB/s\u001b[0m eta \u001b[36m0:00:02\u001b[0m\r\u001b[2K     \u001b[91m━━━━━━━━━━━━━━━━━━━━━━━━━━\u001b[0m\u001b[91m╸\u001b[0m\u001b[90m━━━━━━━━━━━━━\u001b[0m \u001b[32m1.1/1.7 MB\u001b[0m \u001b[31m16.6 MB/s\u001b[0m eta \u001b[36m0:00:01\u001b[0m\r\u001b[2K     \u001b[90m━━━━━━━━━━━━━━━━━━━━━━━━━━━━━━━━━━━━━━━━\u001b[0m \u001b[32m1.7/1.7 MB\u001b[0m \u001b[31m17.8 MB/s\u001b[0m eta \u001b[36m0:00:00\u001b[0m\n",
            "\u001b[?25hRequirement already satisfied: regex>=2022.1.18 in /usr/local/lib/python3.10/dist-packages (from tiktoken) (2022.10.31)\n",
            "Requirement already satisfied: requests>=2.26.0 in /usr/local/lib/python3.10/dist-packages (from tiktoken) (2.27.1)\n",
            "Requirement already satisfied: urllib3<1.27,>=1.21.1 in /usr/local/lib/python3.10/dist-packages (from requests>=2.26.0->tiktoken) (1.26.16)\n",
            "Requirement already satisfied: certifi>=2017.4.17 in /usr/local/lib/python3.10/dist-packages (from requests>=2.26.0->tiktoken) (2023.5.7)\n",
            "Requirement already satisfied: charset-normalizer~=2.0.0 in /usr/local/lib/python3.10/dist-packages (from requests>=2.26.0->tiktoken) (2.0.12)\n",
            "Requirement already satisfied: idna<4,>=2.5 in /usr/local/lib/python3.10/dist-packages (from requests>=2.26.0->tiktoken) (3.4)\n",
            "Installing collected packages: tiktoken\n",
            "Successfully installed tiktoken-0.4.0\n"
          ]
        }
      ],
      "source": [
        "# needed for sample.py\n",
        "!pip install tiktoken"
      ]
    },
    {
      "cell_type": "code",
      "execution_count": 3,
      "metadata": {
        "id": "MIXj56GPS9e2"
      },
      "outputs": [],
      "source": [
        "# create disney data\n",
        "!cp ./nanoGPT/data/shakespeare_char/ ./nanoGPT/data/disney/ -r\n",
        "!sed -i \"15s,.*,    data_url = 'https://raw.githubusercontent.com/eniompw/DisneyGPT/main/GrimmsFairyTales.txt',\" ./nanoGPT/data/disney/prepare.py"
      ]
    },
    {
      "cell_type": "code",
      "execution_count": 4,
      "metadata": {
        "colab": {
          "base_uri": "https://localhost:8080/"
        },
        "id": "JUcJAoK5REPt",
        "outputId": "f1bda796-6b65-4144-e1d7-054c6cdb8dda"
      },
      "outputs": [
        {
          "output_type": "stream",
          "name": "stdout",
          "text": [
            "length of dataset in characters: 517,665\n",
            "all the unique characters: \n",
            " !()*,-.123:;?ABCDEFGHIJKLMNOPQRSTUVWXYZ[]_abcdefghijklmnopqrstuvwxyz‘’“”\n",
            "vocab size: 74\n",
            "train has 465,898 tokens\n",
            "val has 51,767 tokens\n"
          ]
        }
      ],
      "source": [
        "# create tokens\n",
        "!cd ./nanoGPT/data/disney/ && python prepare.py"
      ]
    },
    {
      "cell_type": "code",
      "execution_count": 5,
      "metadata": {
        "colab": {
          "base_uri": "https://localhost:8080/"
        },
        "id": "Yke4_cSURw-d",
        "outputId": "85736f46-7b39-43bb-efb1-a10034675d05"
      },
      "outputs": [
        {
          "output_type": "stream",
          "name": "stdout",
          "text": [
            "Overriding config with config/train_shakespeare_char.py:\n",
            "# train a miniature character-level shakespeare model\n",
            "# good for debugging and playing on macbooks and such\n",
            "\n",
            "out_dir = 'out-shakespeare-char'\n",
            "eval_interval = 250 # keep frequent because we'll overfit\n",
            "eval_iters = 200\n",
            "log_interval = 10 # don't print too too often\n",
            "\n",
            "# we expect to overfit on this small dataset, so only save when val improves\n",
            "always_save_checkpoint = False\n",
            "\n",
            "wandb_log = False # override via command line if you like\n",
            "wandb_project = 'shakespeare-char'\n",
            "wandb_run_name = 'mini-gpt'\n",
            "\n",
            "dataset = 'shakespeare_char'\n",
            "gradient_accumulation_steps = 1\n",
            "batch_size = 64\n",
            "block_size = 256 # context of up to 256 previous characters\n",
            "\n",
            "# baby GPT model :)\n",
            "n_layer = 6\n",
            "n_head = 6\n",
            "n_embd = 384\n",
            "dropout = 0.2\n",
            "\n",
            "learning_rate = 1e-3 # with baby networks can afford to go a bit higher\n",
            "max_iters = 5000\n",
            "lr_decay_iters = 5000 # make equal to max_iters usually\n",
            "min_lr = 1e-4 # learning_rate / 10 usually\n",
            "beta2 = 0.99 # make a bit bigger because number of tokens per iter is small\n",
            "\n",
            "warmup_iters = 100 # not super necessary potentially\n",
            "\n",
            "# on macbook also add\n",
            "# device = 'cpu'  # run on cpu only\n",
            "# compile = False # do not torch compile the model\n",
            "\n",
            "Overriding: out_dir = out\n",
            "Overriding: dataset = disney\n",
            "Overriding: eval_interval = 1\n",
            "Overriding: max_iters = 1\n",
            "tokens per iteration will be: 16,384\n",
            "found vocab_size = 74 (inside data/disney/meta.pkl)\n",
            "Initializing a new model from scratch\n",
            "number of parameters: 10.65M\n",
            "num decayed parameter tensors: 26, with 10,743,552 parameters\n",
            "num non-decayed parameter tensors: 13, with 4,992 parameters\n",
            "using fused AdamW: True\n",
            "compiling the model... (takes a ~minute)\n",
            "step 0: train loss 4.3689, val loss 4.3743\n",
            "[2023-07-20 09:24:55,753] torch._inductor.utils: [WARNING] using triton random, expect difference from eager\n",
            "[2023-07-20 09:24:56,506] torch._inductor.utils: [WARNING] using triton random, expect difference from eager\n",
            "[2023-07-20 09:24:57,583] torch._inductor.utils: [WARNING] using triton random, expect difference from eager\n",
            "[2023-07-20 09:24:57,874] torch._inductor.utils: [WARNING] using triton random, expect difference from eager\n",
            "[2023-07-20 09:24:58,308] torch._inductor.utils: [WARNING] using triton random, expect difference from eager\n",
            "[2023-07-20 09:24:58,716] torch._inductor.utils: [WARNING] using triton random, expect difference from eager\n",
            "[2023-07-20 09:24:59,148] torch._inductor.utils: [WARNING] using triton random, expect difference from eager\n",
            "[2023-07-20 09:24:59,433] torch._inductor.utils: [WARNING] using triton random, expect difference from eager\n",
            "[2023-07-20 09:24:59,874] torch._inductor.utils: [WARNING] using triton random, expect difference from eager\n",
            "[2023-07-20 09:25:00,156] torch._inductor.utils: [WARNING] using triton random, expect difference from eager\n",
            "[2023-07-20 09:25:00,604] torch._inductor.utils: [WARNING] using triton random, expect difference from eager\n",
            "[2023-07-20 09:25:00,896] torch._inductor.utils: [WARNING] using triton random, expect difference from eager\n",
            "iter 0: loss 4.3738, time 38003.32ms, mfu -100.00%\n",
            "step 1: train loss 4.3682, val loss 4.3734\n",
            "saving checkpoint to out\n"
          ]
        }
      ],
      "source": [
        "# train\n",
        "!cd ./nanoGPT && python train.py config/train_shakespeare_char.py --out_dir='out' --dataset=disney --eval_interval=1 --max_iters=1"
      ]
    },
    {
      "cell_type": "code",
      "execution_count": 6,
      "metadata": {
        "colab": {
          "base_uri": "https://localhost:8080/"
        },
        "id": "F1fJeRAdRl5e",
        "outputId": "02b8ef38-f2c0-4f71-c05c-682a419c4a20"
      },
      "outputs": [
        {
          "output_type": "stream",
          "name": "stdout",
          "text": [
            "Overriding: num_samples = 5\n",
            "Overriding: max_new_tokens = 50\n",
            "number of parameters: 10.65M\n",
            "Loading meta from data/disney/meta.pkl...\n",
            "\n",
            "xla”sZBfPyfL][*re,XxyM wR,EZoI\n",
            "ZF!NzAfK?Zu;(y2VVQE\n",
            "---------------\n",
            "\n",
            "bM-1“QK?D:bJRY\n",
            "cVDWTzyocVaLptl[yysE.o’“D ]Vg!DXYw_\n",
            "---------------\n",
            "\n",
            "zDr1(F‘’PUffaBEXY--huA”“hV\n",
            "WjP)(DKoja”d‘’qlx!)T!(U\n",
            "---------------\n",
            "\n",
            "3I]3gK!,\n",
            "_1 dmW_-Cqi1[d33gsv“FDy‘3mjE CnQVV?llUf  \n",
            "---------------\n",
            "\n",
            "..EB!.’wUeZH!!_g‘geiDxSwOD.‘-cyB1l[[[[VTLw*Spz3Kid\n",
            "---------------\n"
          ]
        }
      ],
      "source": [
        "# test AI model\n",
        "!cd ./nanoGPT && python sample.py --num_samples=5 --max_new_tokens=50"
      ]
    }
  ],
  "metadata": {
    "accelerator": "GPU",
    "colab": {
      "provenance": [],
      "gpuType": "T4",
      "authorship_tag": "ABX9TyPJ0fMQp2IrAvRaTL3nrO28",
      "include_colab_link": true
    },
    "kernelspec": {
      "display_name": "Python 3",
      "name": "python3"
    },
    "language_info": {
      "name": "python"
    }
  },
  "nbformat": 4,
  "nbformat_minor": 0
}