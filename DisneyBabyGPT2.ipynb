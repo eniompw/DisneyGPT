{
  "cells": [
    {
      "cell_type": "markdown",
      "metadata": {
        "id": "view-in-github",
        "colab_type": "text"
      },
      "source": [
        "<a href=\"https://colab.research.google.com/github/eniompw/DisneyGPT/blob/main/DisneyBabyGPT2.ipynb\" target=\"_parent\"><img src=\"https://colab.research.google.com/assets/colab-badge.svg\" alt=\"Open In Colab\"/></a>"
      ]
    },
    {
      "cell_type": "code",
      "execution_count": 1,
      "metadata": {
        "colab": {
          "base_uri": "https://localhost:8080/"
        },
        "id": "wjr8ceOFMqZw",
        "outputId": "df9d380d-e85d-4ca4-ad7f-755ce920eceb"
      },
      "outputs": [
        {
          "output_type": "stream",
          "name": "stdout",
          "text": [
            "Cloning into 'nanoGPT'...\n",
            "remote: Enumerating objects: 637, done.\u001b[K\n",
            "remote: Counting objects: 100% (368/368), done.\u001b[K\n",
            "remote: Compressing objects: 100% (98/98), done.\u001b[K\n",
            "remote: Total 637 (delta 316), reused 281 (delta 270), pack-reused 269\u001b[K\n",
            "Receiving objects: 100% (637/637), 781.43 KiB | 7.66 MiB/s, done.\n",
            "Resolving deltas: 100% (373/373), done.\n"
          ]
        }
      ],
      "source": [
        "!git clone https://github.com/karpathy/nanoGPT.git"
      ]
    },
    {
      "cell_type": "code",
      "source": [
        "# Get GrimmsFairyTales Dataset\n",
        "!cp ./nanoGPT/data/shakespeare/ ./nanoGPT/data/DisneyGPT/ -r\n",
        "!sed -i \"9s,.*,    data_url = 'https://raw.githubusercontent.com/eniompw/DisneyGPT/main/GrimmsFairyTales.txt',\" ./nanoGPT/data/DisneyGPT/prepare.py"
      ],
      "metadata": {
        "id": "PDQrEZtoZ7MZ"
      },
      "execution_count": 2,
      "outputs": []
    },
    {
      "cell_type": "code",
      "execution_count": 3,
      "metadata": {
        "colab": {
          "base_uri": "https://localhost:8080/"
        },
        "id": "JUcJAoK5REPt",
        "outputId": "70491eb9-0e94-436e-f526-8cb95f4d3aad"
      },
      "outputs": [
        {
          "output_type": "stream",
          "name": "stdout",
          "text": [
            "Looking in indexes: https://pypi.org/simple, https://us-python.pkg.dev/colab-wheels/public/simple/\n",
            "Collecting tiktoken\n",
            "  Downloading tiktoken-0.4.0-cp310-cp310-manylinux_2_17_x86_64.manylinux2014_x86_64.whl (1.7 MB)\n",
            "\u001b[2K     \u001b[90m━━━━━━━━━━━━━━━━━━━━━━━━━━━━━━━━━━━━━━━━\u001b[0m \u001b[32m1.7/1.7 MB\u001b[0m \u001b[31m20.2 MB/s\u001b[0m eta \u001b[36m0:00:00\u001b[0m\n",
            "\u001b[?25hRequirement already satisfied: regex>=2022.1.18 in /usr/local/lib/python3.10/dist-packages (from tiktoken) (2022.10.31)\n",
            "Requirement already satisfied: requests>=2.26.0 in /usr/local/lib/python3.10/dist-packages (from tiktoken) (2.27.1)\n",
            "Requirement already satisfied: urllib3<1.27,>=1.21.1 in /usr/local/lib/python3.10/dist-packages (from requests>=2.26.0->tiktoken) (1.26.15)\n",
            "Requirement already satisfied: certifi>=2017.4.17 in /usr/local/lib/python3.10/dist-packages (from requests>=2.26.0->tiktoken) (2022.12.7)\n",
            "Requirement already satisfied: charset-normalizer~=2.0.0 in /usr/local/lib/python3.10/dist-packages (from requests>=2.26.0->tiktoken) (2.0.12)\n",
            "Requirement already satisfied: idna<4,>=2.5 in /usr/local/lib/python3.10/dist-packages (from requests>=2.26.0->tiktoken) (3.4)\n",
            "Installing collected packages: tiktoken\n",
            "Successfully installed tiktoken-0.4.0\n",
            "train has 128,538 tokens\n",
            "val has 14,168 tokens\n"
          ]
        }
      ],
      "source": [
        "!pip install tiktoken\n",
        "!cd ./nanoGPT/data/DisneyGPT/ && python prepare.py"
      ]
    },
    {
      "cell_type": "code",
      "source": [
        "!pip install transformers"
      ],
      "metadata": {
        "colab": {
          "base_uri": "https://localhost:8080/"
        },
        "id": "ESgVFotnfyme",
        "outputId": "3484cb35-8b58-42bb-b5d2-307168529362"
      },
      "execution_count": 6,
      "outputs": [
        {
          "output_type": "stream",
          "name": "stdout",
          "text": [
            "Looking in indexes: https://pypi.org/simple, https://us-python.pkg.dev/colab-wheels/public/simple/\n",
            "Collecting transformers\n",
            "  Downloading transformers-4.30.2-py3-none-any.whl (7.2 MB)\n",
            "\u001b[2K     \u001b[90m━━━━━━━━━━━━━━━━━━━━━━━━━━━━━━━━━━━━━━━━\u001b[0m \u001b[32m7.2/7.2 MB\u001b[0m \u001b[31m58.0 MB/s\u001b[0m eta \u001b[36m0:00:00\u001b[0m\n",
            "\u001b[?25hRequirement already satisfied: filelock in /usr/local/lib/python3.10/dist-packages (from transformers) (3.12.0)\n",
            "Collecting huggingface-hub<1.0,>=0.14.1 (from transformers)\n",
            "  Downloading huggingface_hub-0.15.1-py3-none-any.whl (236 kB)\n",
            "\u001b[2K     \u001b[90m━━━━━━━━━━━━━━━━━━━━━━━━━━━━━━━━━━━━━━\u001b[0m \u001b[32m236.8/236.8 kB\u001b[0m \u001b[31m32.0 MB/s\u001b[0m eta \u001b[36m0:00:00\u001b[0m\n",
            "\u001b[?25hRequirement already satisfied: numpy>=1.17 in /usr/local/lib/python3.10/dist-packages (from transformers) (1.22.4)\n",
            "Requirement already satisfied: packaging>=20.0 in /usr/local/lib/python3.10/dist-packages (from transformers) (23.1)\n",
            "Requirement already satisfied: pyyaml>=5.1 in /usr/local/lib/python3.10/dist-packages (from transformers) (6.0)\n",
            "Requirement already satisfied: regex!=2019.12.17 in /usr/local/lib/python3.10/dist-packages (from transformers) (2022.10.31)\n",
            "Requirement already satisfied: requests in /usr/local/lib/python3.10/dist-packages (from transformers) (2.27.1)\n",
            "Collecting tokenizers!=0.11.3,<0.14,>=0.11.1 (from transformers)\n",
            "  Downloading tokenizers-0.13.3-cp310-cp310-manylinux_2_17_x86_64.manylinux2014_x86_64.whl (7.8 MB)\n",
            "\u001b[2K     \u001b[90m━━━━━━━━━━━━━━━━━━━━━━━━━━━━━━━━━━━━━━━━\u001b[0m \u001b[32m7.8/7.8 MB\u001b[0m \u001b[31m100.4 MB/s\u001b[0m eta \u001b[36m0:00:00\u001b[0m\n",
            "\u001b[?25hCollecting safetensors>=0.3.1 (from transformers)\n",
            "  Downloading safetensors-0.3.1-cp310-cp310-manylinux_2_17_x86_64.manylinux2014_x86_64.whl (1.3 MB)\n",
            "\u001b[2K     \u001b[90m━━━━━━━━━━━━━━━━━━━━━━━━━━━━━━━━━━━━━━━━\u001b[0m \u001b[32m1.3/1.3 MB\u001b[0m \u001b[31m93.9 MB/s\u001b[0m eta \u001b[36m0:00:00\u001b[0m\n",
            "\u001b[?25hRequirement already satisfied: tqdm>=4.27 in /usr/local/lib/python3.10/dist-packages (from transformers) (4.65.0)\n",
            "Requirement already satisfied: fsspec in /usr/local/lib/python3.10/dist-packages (from huggingface-hub<1.0,>=0.14.1->transformers) (2023.4.0)\n",
            "Requirement already satisfied: typing-extensions>=3.7.4.3 in /usr/local/lib/python3.10/dist-packages (from huggingface-hub<1.0,>=0.14.1->transformers) (4.5.0)\n",
            "Requirement already satisfied: urllib3<1.27,>=1.21.1 in /usr/local/lib/python3.10/dist-packages (from requests->transformers) (1.26.15)\n",
            "Requirement already satisfied: certifi>=2017.4.17 in /usr/local/lib/python3.10/dist-packages (from requests->transformers) (2022.12.7)\n",
            "Requirement already satisfied: charset-normalizer~=2.0.0 in /usr/local/lib/python3.10/dist-packages (from requests->transformers) (2.0.12)\n",
            "Requirement already satisfied: idna<4,>=2.5 in /usr/local/lib/python3.10/dist-packages (from requests->transformers) (3.4)\n",
            "Installing collected packages: tokenizers, safetensors, huggingface-hub, transformers\n",
            "Successfully installed huggingface-hub-0.15.1 safetensors-0.3.1 tokenizers-0.13.3 transformers-4.30.2\n"
          ]
        }
      ]
    },
    {
      "cell_type": "code",
      "execution_count": 33,
      "metadata": {
        "colab": {
          "base_uri": "https://localhost:8080/"
        },
        "id": "Yke4_cSURw-d",
        "outputId": "cedce774-7b3a-4028-b4c9-233a5b8961d6"
      },
      "outputs": [
        {
          "output_type": "stream",
          "name": "stdout",
          "text": [
            "Overriding config with config/train_shakespeare_char.py:\n",
            "# train a miniature character-level shakespeare model\n",
            "# good for debugging and playing on macbooks and such\n",
            "\n",
            "out_dir = 'out-shakespeare-char'\n",
            "eval_interval = 250 # keep frequent because we'll overfit\n",
            "eval_iters = 200\n",
            "log_interval = 10 # don't print too too often\n",
            "\n",
            "# we expect to overfit on this small dataset, so only save when val improves\n",
            "always_save_checkpoint = False\n",
            "\n",
            "wandb_log = False # override via command line if you like\n",
            "wandb_project = 'shakespeare-char'\n",
            "wandb_run_name = 'mini-gpt'\n",
            "\n",
            "dataset = 'shakespeare_char'\n",
            "gradient_accumulation_steps = 1\n",
            "batch_size = 64\n",
            "block_size = 256 # context of up to 256 previous characters\n",
            "\n",
            "# baby GPT model :)\n",
            "n_layer = 6\n",
            "n_head = 6\n",
            "n_embd = 384\n",
            "dropout = 0.2\n",
            "\n",
            "learning_rate = 1e-3 # with baby networks can afford to go a bit higher\n",
            "max_iters = 5000\n",
            "lr_decay_iters = 5000 # make equal to max_iters usually\n",
            "min_lr = 1e-4 # learning_rate / 10 usually\n",
            "beta2 = 0.99 # make a bit bigger because number of tokens per iter is small\n",
            "\n",
            "warmup_iters = 100 # not super necessary potentially\n",
            "\n",
            "# on macbook also add\n",
            "# device = 'cpu'  # run on cpu only\n",
            "# compile = False # do not torch compile the model\n",
            "\n",
            "Overriding: out_dir = out\n",
            "Overriding: dataset = DisneyGPT\n",
            "Overriding: batch_size = 12\n",
            "Overriding: init_from = resume\n",
            "Overriding: always_save_checkpoint = True\n",
            "Overriding: eval_interval = 1100\n",
            "Overriding: max_iters = 1100\n",
            "tokens per iteration will be: 3,072\n",
            "Resuming training from out\n",
            "number of parameters: 123.65M\n",
            "num decayed parameter tensors: 50, with 123,728,640 parameters\n",
            "num non-decayed parameter tensors: 98, with 121,344 parameters\n",
            "using fused AdamW: True\n",
            "compiling the model... (takes a ~minute)\n",
            "[2023-06-17 23:25:50,030] torch._inductor.utils: [WARNING] using triton random, expect difference from eager\n",
            "[2023-06-17 23:25:50,430] torch._inductor.utils: [WARNING] using triton random, expect difference from eager\n",
            "[2023-06-17 23:25:51,028] torch._inductor.utils: [WARNING] using triton random, expect difference from eager\n",
            "[2023-06-17 23:25:51,393] torch._inductor.utils: [WARNING] using triton random, expect difference from eager\n",
            "[2023-06-17 23:25:52,079] torch._inductor.utils: [WARNING] using triton random, expect difference from eager\n",
            "[2023-06-17 23:25:52,441] torch._inductor.utils: [WARNING] using triton random, expect difference from eager\n",
            "[2023-06-17 23:25:52,958] torch._inductor.utils: [WARNING] using triton random, expect difference from eager\n",
            "[2023-06-17 23:25:53,329] torch._inductor.utils: [WARNING] using triton random, expect difference from eager\n",
            "[2023-06-17 23:25:54,073] torch._inductor.utils: [WARNING] using triton random, expect difference from eager\n",
            "[2023-06-17 23:25:54,664] torch._inductor.utils: [WARNING] using triton random, expect difference from eager\n",
            "[2023-06-17 23:25:55,509] torch._inductor.utils: [WARNING] using triton random, expect difference from eager\n",
            "[2023-06-17 23:25:56,071] torch._inductor.utils: [WARNING] using triton random, expect difference from eager\n",
            "[2023-06-17 23:25:56,930] torch._inductor.utils: [WARNING] using triton random, expect difference from eager\n",
            "[2023-06-17 23:25:57,435] torch._inductor.utils: [WARNING] using triton random, expect difference from eager\n",
            "[2023-06-17 23:25:58,113] torch._inductor.utils: [WARNING] using triton random, expect difference from eager\n",
            "[2023-06-17 23:25:58,478] torch._inductor.utils: [WARNING] using triton random, expect difference from eager\n",
            "[2023-06-17 23:25:58,997] torch._inductor.utils: [WARNING] using triton random, expect difference from eager\n",
            "[2023-06-17 23:25:59,368] torch._inductor.utils: [WARNING] using triton random, expect difference from eager\n",
            "[2023-06-17 23:25:59,888] torch._inductor.utils: [WARNING] using triton random, expect difference from eager\n",
            "[2023-06-17 23:26:00,258] torch._inductor.utils: [WARNING] using triton random, expect difference from eager\n",
            "[2023-06-17 23:26:00,788] torch._inductor.utils: [WARNING] using triton random, expect difference from eager\n",
            "[2023-06-17 23:26:01,206] torch._inductor.utils: [WARNING] using triton random, expect difference from eager\n",
            "[2023-06-17 23:26:01,719] torch._inductor.utils: [WARNING] using triton random, expect difference from eager\n",
            "[2023-06-17 23:26:02,093] torch._inductor.utils: [WARNING] using triton random, expect difference from eager\n",
            "iter 1000: loss 0.1371, time 19111.29ms, mfu -100.00%\n",
            "iter 1010: loss 0.1550, time 293.91ms, mfu 2.58%\n",
            "iter 1020: loss 0.1033, time 293.15ms, mfu 2.58%\n",
            "iter 1030: loss 0.1056, time 294.11ms, mfu 2.58%\n",
            "iter 1040: loss 0.1037, time 295.17ms, mfu 2.58%\n",
            "iter 1050: loss 0.0914, time 294.84ms, mfu 2.58%\n",
            "iter 1060: loss 0.0960, time 294.93ms, mfu 2.58%\n",
            "iter 1070: loss 0.0990, time 296.27ms, mfu 2.58%\n",
            "iter 1080: loss 0.0860, time 300.43ms, mfu 2.57%\n",
            "iter 1090: loss 0.0826, time 298.76ms, mfu 2.57%\n",
            "step 1100: train loss 0.1068, val loss 6.7638\n",
            "saving checkpoint to out\n",
            "iter 1100: loss 0.1108, time 39990.57ms, mfu 2.31%\n"
          ]
        }
      ],
      "source": [
        "!cd ./nanoGPT && python train.py config/train_shakespeare_char.py --out_dir='out' --dataset=DisneyGPT --batch_size=12 --init_from='resume' --always_save_checkpoint=True --eval_interval=1100 --max_iters=1100"
      ]
    },
    {
      "cell_type": "code",
      "execution_count": 34,
      "metadata": {
        "colab": {
          "base_uri": "https://localhost:8080/"
        },
        "id": "F1fJeRAdRl5e",
        "outputId": "2c843245-3197-4cbe-b99d-898bbad2d0a5"
      },
      "outputs": [
        {
          "output_type": "stream",
          "name": "stdout",
          "text": [
            "Overriding: num_samples = 5\n",
            "Overriding: max_new_tokens = 30\n",
            "number of parameters: 123.65M\n",
            "No meta.pkl found, assuming GPT-2 encodings...\n",
            "\n",
            "The king said to him. ‘Lie down and go to sleep.’ In the morning\n",
            "came, when he awoke and found that\n",
            "---------------\n",
            "\n",
            "The king, who had heard all that the others\n",
            "came, was greatly astonished to see them, and asked how they had fared. ‘\n",
            "---------------\n",
            "\n",
            "the court, and asked what was the matter. ‘There is a nasty frog,’ said he, ‘at\n",
            "the summons,\n",
            "---------------\n",
            "\n",
            "the hut burnt a fire; but round about the fire a funny little dwarf was\n",
            "dancing upon one leg, and singing:\n",
            "\n",
            " “Mer\n",
            "---------------\n",
            "\n",
            "a splendid garden stood in the middle of it, whereon the griffin\n",
            "rested for a while, and then drove them homewards.\n",
            "---------------\n"
          ]
        }
      ],
      "source": [
        "!cd ./nanoGPT && python sample.py --num_samples=5 --max_new_tokens=30"
      ]
    }
  ],
  "metadata": {
    "accelerator": "GPU",
    "colab": {
      "provenance": [],
      "gpuType": "T4",
      "authorship_tag": "ABX9TyM9/UTyQzaEze/kjRuRGlC/",
      "include_colab_link": true
    },
    "kernelspec": {
      "display_name": "Python 3",
      "name": "python3"
    },
    "language_info": {
      "name": "python"
    }
  },
  "nbformat": 4,
  "nbformat_minor": 0
}