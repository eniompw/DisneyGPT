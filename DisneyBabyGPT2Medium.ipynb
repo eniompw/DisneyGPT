{
  "cells": [
    {
      "cell_type": "markdown",
      "metadata": {
        "id": "view-in-github",
        "colab_type": "text"
      },
      "source": [
        "<a href=\"https://colab.research.google.com/github/eniompw/DisneyGPT/blob/main/DisneyBabyGPT2Medium.ipynb\" target=\"_parent\"><img src=\"https://colab.research.google.com/assets/colab-badge.svg\" alt=\"Open In Colab\"/></a>"
      ]
    },
    {
      "cell_type": "code",
      "execution_count": 1,
      "metadata": {
        "colab": {
          "base_uri": "https://localhost:8080/"
        },
        "id": "wjr8ceOFMqZw",
        "outputId": "f8f696f6-1fd4-4c3f-ed08-b594b77edd2a"
      },
      "outputs": [
        {
          "output_type": "stream",
          "name": "stdout",
          "text": [
            "fatal: destination path 'nanoGPT' already exists and is not an empty directory.\n"
          ]
        }
      ],
      "source": [
        "!git clone https://github.com/karpathy/nanoGPT.git"
      ]
    },
    {
      "cell_type": "code",
      "execution_count": 8,
      "metadata": {
        "colab": {
          "base_uri": "https://localhost:8080/"
        },
        "id": "Z5aBSOp3QIoM",
        "outputId": "20656aaa-8881-4405-db16-6488488959c9"
      },
      "outputs": [
        {
          "output_type": "stream",
          "name": "stdout",
          "text": [
            "Looking in indexes: https://pypi.org/simple, https://us-python.pkg.dev/colab-wheels/public/simple/\n",
            "Requirement already satisfied: tiktoken in /usr/local/lib/python3.10/dist-packages (0.4.0)\n",
            "Collecting transformers\n",
            "  Downloading transformers-4.30.2-py3-none-any.whl (7.2 MB)\n",
            "\u001b[2K     \u001b[90m━━━━━━━━━━━━━━━━━━━━━━━━━━━━━━━━━━━━━━━━\u001b[0m \u001b[32m7.2/7.2 MB\u001b[0m \u001b[31m43.7 MB/s\u001b[0m eta \u001b[36m0:00:00\u001b[0m\n",
            "\u001b[?25hRequirement already satisfied: regex>=2022.1.18 in /usr/local/lib/python3.10/dist-packages (from tiktoken) (2022.10.31)\n",
            "Requirement already satisfied: requests>=2.26.0 in /usr/local/lib/python3.10/dist-packages (from tiktoken) (2.27.1)\n",
            "Requirement already satisfied: filelock in /usr/local/lib/python3.10/dist-packages (from transformers) (3.12.0)\n",
            "Collecting huggingface-hub<1.0,>=0.14.1 (from transformers)\n",
            "  Downloading huggingface_hub-0.15.1-py3-none-any.whl (236 kB)\n",
            "\u001b[2K     \u001b[90m━━━━━━━━━━━━━━━━━━━━━━━━━━━━━━━━━━━━━━\u001b[0m \u001b[32m236.8/236.8 kB\u001b[0m \u001b[31m18.3 MB/s\u001b[0m eta \u001b[36m0:00:00\u001b[0m\n",
            "\u001b[?25hRequirement already satisfied: numpy>=1.17 in /usr/local/lib/python3.10/dist-packages (from transformers) (1.22.4)\n",
            "Requirement already satisfied: packaging>=20.0 in /usr/local/lib/python3.10/dist-packages (from transformers) (23.1)\n",
            "Requirement already satisfied: pyyaml>=5.1 in /usr/local/lib/python3.10/dist-packages (from transformers) (6.0)\n",
            "Collecting tokenizers!=0.11.3,<0.14,>=0.11.1 (from transformers)\n",
            "  Downloading tokenizers-0.13.3-cp310-cp310-manylinux_2_17_x86_64.manylinux2014_x86_64.whl (7.8 MB)\n",
            "\u001b[2K     \u001b[90m━━━━━━━━━━━━━━━━━━━━━━━━━━━━━━━━━━━━━━━━\u001b[0m \u001b[32m7.8/7.8 MB\u001b[0m \u001b[31m69.8 MB/s\u001b[0m eta \u001b[36m0:00:00\u001b[0m\n",
            "\u001b[?25hCollecting safetensors>=0.3.1 (from transformers)\n",
            "  Downloading safetensors-0.3.1-cp310-cp310-manylinux_2_17_x86_64.manylinux2014_x86_64.whl (1.3 MB)\n",
            "\u001b[2K     \u001b[90m━━━━━━━━━━━━━━━━━━━━━━━━━━━━━━━━━━━━━━━━\u001b[0m \u001b[32m1.3/1.3 MB\u001b[0m \u001b[31m61.0 MB/s\u001b[0m eta \u001b[36m0:00:00\u001b[0m\n",
            "\u001b[?25hRequirement already satisfied: tqdm>=4.27 in /usr/local/lib/python3.10/dist-packages (from transformers) (4.65.0)\n",
            "Requirement already satisfied: fsspec in /usr/local/lib/python3.10/dist-packages (from huggingface-hub<1.0,>=0.14.1->transformers) (2023.4.0)\n",
            "Requirement already satisfied: typing-extensions>=3.7.4.3 in /usr/local/lib/python3.10/dist-packages (from huggingface-hub<1.0,>=0.14.1->transformers) (4.5.0)\n",
            "Requirement already satisfied: urllib3<1.27,>=1.21.1 in /usr/local/lib/python3.10/dist-packages (from requests>=2.26.0->tiktoken) (1.26.15)\n",
            "Requirement already satisfied: certifi>=2017.4.17 in /usr/local/lib/python3.10/dist-packages (from requests>=2.26.0->tiktoken) (2022.12.7)\n",
            "Requirement already satisfied: charset-normalizer~=2.0.0 in /usr/local/lib/python3.10/dist-packages (from requests>=2.26.0->tiktoken) (2.0.12)\n",
            "Requirement already satisfied: idna<4,>=2.5 in /usr/local/lib/python3.10/dist-packages (from requests>=2.26.0->tiktoken) (3.4)\n",
            "Installing collected packages: tokenizers, safetensors, huggingface-hub, transformers\n",
            "Successfully installed huggingface-hub-0.15.1 safetensors-0.3.1 tokenizers-0.13.3 transformers-4.30.2\n"
          ]
        }
      ],
      "source": [
        "# install dependencies\n",
        "!pip install tiktoken transformers"
      ]
    },
    {
      "cell_type": "code",
      "execution_count": 3,
      "metadata": {
        "id": "MIXj56GPS9e2"
      },
      "outputs": [],
      "source": [
        "# create disney data\n",
        "!cp ./nanoGPT/data/shakespeare/ ./nanoGPT/data/disney/ -r\n",
        "!sed -i \"9s,.*,    data_url = 'https://raw.githubusercontent.com/eniompw/DisneyGPT/main/GrimmsFairyTales.txt',\" ./nanoGPT/data/disney/prepare.py"
      ]
    },
    {
      "cell_type": "code",
      "execution_count": 4,
      "metadata": {
        "colab": {
          "base_uri": "https://localhost:8080/"
        },
        "id": "JUcJAoK5REPt",
        "outputId": "e8defdbb-6202-4af0-b7fb-ca5e6820717d"
      },
      "outputs": [
        {
          "output_type": "stream",
          "name": "stdout",
          "text": [
            "train has 128,538 tokens\n",
            "val has 14,168 tokens\n"
          ]
        }
      ],
      "source": [
        "!cd ./nanoGPT/data/disney/ && python prepare.py"
      ]
    },
    {
      "cell_type": "code",
      "execution_count": 17,
      "metadata": {
        "colab": {
          "base_uri": "https://localhost:8080/"
        },
        "id": "Yke4_cSURw-d",
        "outputId": "f1c9c46c-6002-4436-be2a-dd135c86889d"
      },
      "outputs": [
        {
          "output_type": "stream",
          "name": "stdout",
          "text": [
            "Overriding config with config/train_shakespeare_char.py:\n",
            "# train a miniature character-level shakespeare model\n",
            "# good for debugging and playing on macbooks and such\n",
            "\n",
            "out_dir = 'out-shakespeare-char'\n",
            "eval_interval = 250 # keep frequent because we'll overfit\n",
            "eval_iters = 200\n",
            "log_interval = 10 # don't print too too often\n",
            "\n",
            "# we expect to overfit on this small dataset, so only save when val improves\n",
            "always_save_checkpoint = False\n",
            "\n",
            "wandb_log = False # override via command line if you like\n",
            "wandb_project = 'shakespeare-char'\n",
            "wandb_run_name = 'mini-gpt'\n",
            "\n",
            "dataset = 'shakespeare_char'\n",
            "gradient_accumulation_steps = 1\n",
            "batch_size = 64\n",
            "block_size = 256 # context of up to 256 previous characters\n",
            "\n",
            "# baby GPT model :)\n",
            "n_layer = 6\n",
            "n_head = 6\n",
            "n_embd = 384\n",
            "dropout = 0.2\n",
            "\n",
            "learning_rate = 1e-3 # with baby networks can afford to go a bit higher\n",
            "max_iters = 5000\n",
            "lr_decay_iters = 5000 # make equal to max_iters usually\n",
            "min_lr = 1e-4 # learning_rate / 10 usually\n",
            "beta2 = 0.99 # make a bit bigger because number of tokens per iter is small\n",
            "\n",
            "warmup_iters = 100 # not super necessary potentially\n",
            "\n",
            "# on macbook also add\n",
            "# device = 'cpu'  # run on cpu only\n",
            "# compile = False # do not torch compile the model\n",
            "\n",
            "Overriding: out_dir = out\n",
            "Overriding: dataset = disney\n",
            "Overriding: dtype = float16\n",
            "Overriding: block_size = 64\n",
            "Overriding: log_interval = 1\n",
            "Overriding: eval_interval = 5\n",
            "Overriding: max_iters = 5\n",
            "Overriding: eval_iters = 5\n",
            "Overriding: init_from = gpt2-medium\n",
            "tokens per iteration will be: 4,096\n",
            "Initializing from OpenAI GPT-2 weights: gpt2-medium\n",
            "loading weights from pretrained gpt: gpt2-medium\n",
            "forcing vocab_size=50257, block_size=1024, bias=True\n",
            "overriding dropout rate to 0.2\n",
            "number of parameters: 353.77M\n",
            "Downloading (…)lve/main/config.json: 100% 718/718 [00:00<00:00, 4.18MB/s]\n",
            "Downloading model.safetensors: 100% 1.52G/1.52G [00:20<00:00, 74.7MB/s]\n",
            "Downloading (…)neration_config.json: 100% 124/124 [00:00<00:00, 657kB/s]\n",
            "num decayed parameter tensors: 98, with 353,518,592 parameters\n",
            "num non-decayed parameter tensors: 194, with 321,536 parameters\n",
            "using fused AdamW: True\n",
            "compiling the model... (takes a ~minute)\n",
            "step 0: train loss 4.0198, val loss 3.9880\n",
            "[2023-06-14 06:04:35,329] torch._inductor.utils: [WARNING] using triton random, expect difference from eager\n",
            "[2023-06-14 06:04:36,027] torch._inductor.utils: [WARNING] using triton random, expect difference from eager\n",
            "[2023-06-14 06:04:37,228] torch._inductor.utils: [WARNING] using triton random, expect difference from eager\n",
            "[2023-06-14 06:04:37,659] torch._inductor.utils: [WARNING] using triton random, expect difference from eager\n",
            "[2023-06-14 06:04:38,251] torch._inductor.utils: [WARNING] using triton random, expect difference from eager\n",
            "[2023-06-14 06:04:38,685] torch._inductor.utils: [WARNING] using triton random, expect difference from eager\n",
            "[2023-06-14 06:04:39,265] torch._inductor.utils: [WARNING] using triton random, expect difference from eager\n",
            "[2023-06-14 06:04:39,699] torch._inductor.utils: [WARNING] using triton random, expect difference from eager\n",
            "[2023-06-14 06:04:40,281] torch._inductor.utils: [WARNING] using triton random, expect difference from eager\n",
            "[2023-06-14 06:04:40,710] torch._inductor.utils: [WARNING] using triton random, expect difference from eager\n",
            "[2023-06-14 06:04:41,301] torch._inductor.utils: [WARNING] using triton random, expect difference from eager\n",
            "[2023-06-14 06:04:41,816] torch._inductor.utils: [WARNING] using triton random, expect difference from eager\n",
            "[2023-06-14 06:04:43,154] torch._inductor.utils: [WARNING] using triton random, expect difference from eager\n",
            "[2023-06-14 06:04:43,826] torch._inductor.utils: [WARNING] using triton random, expect difference from eager\n",
            "[2023-06-14 06:04:44,705] torch._inductor.utils: [WARNING] using triton random, expect difference from eager\n",
            "[2023-06-14 06:04:45,393] torch._inductor.utils: [WARNING] using triton random, expect difference from eager\n",
            "[2023-06-14 06:04:46,205] torch._inductor.utils: [WARNING] using triton random, expect difference from eager\n",
            "[2023-06-14 06:04:46,658] torch._inductor.utils: [WARNING] using triton random, expect difference from eager\n",
            "[2023-06-14 06:04:47,251] torch._inductor.utils: [WARNING] using triton random, expect difference from eager\n",
            "[2023-06-14 06:04:47,710] torch._inductor.utils: [WARNING] using triton random, expect difference from eager\n",
            "[2023-06-14 06:04:48,294] torch._inductor.utils: [WARNING] using triton random, expect difference from eager\n",
            "[2023-06-14 06:04:48,925] torch._inductor.utils: [WARNING] using triton random, expect difference from eager\n",
            "[2023-06-14 06:04:49,489] torch._inductor.utils: [WARNING] using triton random, expect difference from eager\n",
            "[2023-06-14 06:04:49,936] torch._inductor.utils: [WARNING] using triton random, expect difference from eager\n",
            "[2023-06-14 06:04:50,505] torch._inductor.utils: [WARNING] using triton random, expect difference from eager\n",
            "[2023-06-14 06:04:50,946] torch._inductor.utils: [WARNING] using triton random, expect difference from eager\n",
            "[2023-06-14 06:04:51,519] torch._inductor.utils: [WARNING] using triton random, expect difference from eager\n",
            "[2023-06-14 06:04:51,945] torch._inductor.utils: [WARNING] using triton random, expect difference from eager\n",
            "[2023-06-14 06:04:52,525] torch._inductor.utils: [WARNING] using triton random, expect difference from eager\n",
            "[2023-06-14 06:04:52,960] torch._inductor.utils: [WARNING] using triton random, expect difference from eager\n",
            "[2023-06-14 06:04:53,525] torch._inductor.utils: [WARNING] using triton random, expect difference from eager\n",
            "[2023-06-14 06:04:53,944] torch._inductor.utils: [WARNING] using triton random, expect difference from eager\n",
            "[2023-06-14 06:04:54,723] torch._inductor.utils: [WARNING] using triton random, expect difference from eager\n",
            "[2023-06-14 06:04:55,138] torch._inductor.utils: [WARNING] using triton random, expect difference from eager\n",
            "[2023-06-14 06:04:55,731] torch._inductor.utils: [WARNING] using triton random, expect difference from eager\n",
            "[2023-06-14 06:04:56,302] torch._inductor.utils: [WARNING] using triton random, expect difference from eager\n",
            "[2023-06-14 06:04:57,160] torch._inductor.utils: [WARNING] using triton random, expect difference from eager\n",
            "[2023-06-14 06:04:57,816] torch._inductor.utils: [WARNING] using triton random, expect difference from eager\n",
            "[2023-06-14 06:04:58,682] torch._inductor.utils: [WARNING] using triton random, expect difference from eager\n",
            "[2023-06-14 06:04:59,374] torch._inductor.utils: [WARNING] using triton random, expect difference from eager\n",
            "[2023-06-14 06:05:00,284] torch._inductor.utils: [WARNING] using triton random, expect difference from eager\n",
            "[2023-06-14 06:05:00,757] torch._inductor.utils: [WARNING] using triton random, expect difference from eager\n",
            "[2023-06-14 06:05:01,560] torch._inductor.utils: [WARNING] using triton random, expect difference from eager\n",
            "[2023-06-14 06:05:01,993] torch._inductor.utils: [WARNING] using triton random, expect difference from eager\n",
            "[2023-06-14 06:05:02,568] torch._inductor.utils: [WARNING] using triton random, expect difference from eager\n",
            "[2023-06-14 06:05:03,028] torch._inductor.utils: [WARNING] using triton random, expect difference from eager\n",
            "[2023-06-14 06:05:03,602] torch._inductor.utils: [WARNING] using triton random, expect difference from eager\n",
            "[2023-06-14 06:05:04,042] torch._inductor.utils: [WARNING] using triton random, expect difference from eager\n",
            "iter 0: loss 5.4908, time 72049.66ms, mfu -100.00%\n",
            "iter 1: loss 5.3160, time 634.87ms, mfu -100.00%\n",
            "iter 2: loss 5.3475, time 621.13ms, mfu -100.00%\n",
            "iter 3: loss 4.9196, time 863.99ms, mfu -100.00%\n",
            "iter 4: loss 4.5315, time 868.56ms, mfu -100.00%\n",
            "step 5: train loss 3.5740, val loss 3.5709\n",
            "saving checkpoint to out\n",
            "iter 5: loss 4.2724, time 49514.58ms, mfu 0.06%\n"
          ]
        }
      ],
      "source": [
        "!cd ./nanoGPT && python train.py config/train_shakespeare_char.py --out_dir='out' --dataset=disney --dtype=float16 --block_size=64 --log_interval=1 --eval_interval=5 --max_iters=5 --eval_iters=5 --init_from='gpt2-medium'"
      ]
    },
    {
      "cell_type": "code",
      "execution_count": 19,
      "metadata": {
        "colab": {
          "base_uri": "https://localhost:8080/"
        },
        "id": "F1fJeRAdRl5e",
        "outputId": "29bd8aa4-20bb-45db-ab95-416a9da06aae"
      },
      "outputs": [
        {
          "output_type": "stream",
          "name": "stdout",
          "text": [
            "Overriding: dtype = float16\n",
            "Overriding: num_samples = 5\n",
            "Overriding: max_new_tokens = 20\n",
            "number of parameters: 353.77M\n",
            "No meta.pkl found, assuming GPT-2 encodings...\n",
            "\n",
            "This time, the young man came to the door of the room and asked for bread. He was\n",
            "---------------\n",
            "\n",
            "The above is from his article \"The Second American Revolution\" from the February, 1801 issue of\n",
            "---------------\n",
            "\n",
            "I have the screen on for a very good reason. A Sony Xperia XZ Premium was waiting downstairs\n",
            "---------------\n",
            "\n",
            "If you're still not convinced, here's the video to prove it:\n",
            "\n",
            "When it comes\n",
            "---------------\n",
            "\n",
            "For some time, I have seen with my own eyes such phenomena as a glowing, cold blue,\n",
            "---------------\n"
          ]
        }
      ],
      "source": [
        "!cd ./nanoGPT && python sample.py --dtype=float16 --num_samples=5 --max_new_tokens=20"
      ]
    }
  ],
  "metadata": {
    "accelerator": "GPU",
    "colab": {
      "provenance": [],
      "gpuType": "T4",
      "authorship_tag": "ABX9TyOoI7hThnosd9pydUzR7Cqn",
      "include_colab_link": true
    },
    "kernelspec": {
      "display_name": "Python 3",
      "name": "python3"
    },
    "language_info": {
      "name": "python"
    }
  },
  "nbformat": 4,
  "nbformat_minor": 0
}